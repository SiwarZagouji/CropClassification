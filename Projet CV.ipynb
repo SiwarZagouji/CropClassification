{
 "cells": [
  {
   "cell_type": "code",
   "execution_count": 7,
   "id": "7c17ac2b",
   "metadata": {},
   "outputs": [
    {
     "name": "stdout",
     "output_type": "stream",
     "text": [
      "Total number of augmented images: 795\n"
     ]
    }
   ],
   "source": [
    "# Import necessary libraries\n",
    "from tensorflow.keras.preprocessing.image import ImageDataGenerator\n",
    "from PIL import Image\n",
    "import os\n",
    "import numpy as np\n",
    "from sklearn.model_selection import train_test_split\n",
    "from tensorflow.keras.applications import VGG16, InceptionV3\n",
    "from tensorflow.keras.models import Sequential\n",
    "from tensorflow.keras.layers import Dense, Flatten, BatchNormalization, GlobalAveragePooling2D\n",
    "from sklearn.metrics import confusion_matrix, accuracy_score, precision_score, recall_score, f1_score, roc_curve, auc\n",
    "import matplotlib.pyplot as plt\n",
    "\n",
    "# Define data folder and crop types\n",
    "data_folder = 'Desktop/DataCrop/'  # Path to the folder containing the images\n",
    "crop_types = ['wheat', 'rice', 'sugarcane', 'maize', 'jute']  # Types of crops\n",
    "augmented_images = []\n",
    "num_images_per_class = 159  # Desired number of images per class\n",
    "\n",
    "# Create an augmentation generator\n",
    "augmentation_generator = ImageDataGenerator(\n",
    "    rotation_range=10,\n",
    "    zoom_range=0.2,\n",
    "    width_shift_range=0.1,\n",
    "    height_shift_range=0.1,\n",
    "    shear_range=0.15,\n",
    "    horizontal_flip=True,\n",
    "    vertical_flip=True,\n",
    "    fill_mode='nearest'\n",
    ")\n",
    "\n",
    "# Iterate over each crop class\n",
    "for label, crop in enumerate(crop_types):\n",
    "    crop_folder = os.path.join(data_folder, crop)\n",
    "    images_in_class = [os.path.join(crop_folder, filename) for filename in os.listdir(crop_folder)]\n",
    "\n",
    "    # Generate augmented images to reach the desired number\n",
    "    generated_images = 0\n",
    "    while generated_images < num_images_per_class:\n",
    "        for img_path in images_in_class:\n",
    "            img = Image.open(img_path)\n",
    "            img = img.resize((224, 224))  # Resize if necessary\n",
    "            img = np.array(img) / 255.0  # Normalize pixel values\n",
    "            \n",
    "            # Generate an augmented image\n",
    "            augmented_img = augmentation_generator.random_transform(img)\n",
    "            augmented_images.append((augmented_img, label))  # Add image and its label\n",
    "            generated_images += 1\n",
    "            \n",
    "            # Check if desired number of augmented images is reached\n",
    "            if generated_images == num_images_per_class:\n",
    "                break\n",
    "\n",
    "# Check the total number of generated augmented images\n",
    "print(f\"Total number of augmented images: {len(augmented_images)}\")"
   ]
  },
  {
   "cell_type": "code",
   "execution_count": 2,
   "id": "38ffd387",
   "metadata": {},
   "outputs": [
    {
     "name": "stdout",
     "output_type": "stream",
     "text": [
      "Train set: 636 images\n",
      "Validation set: 79 images\n",
      "Test set: 80 images\n"
     ]
    }
   ],
   "source": [
    "# Splitting the data into train (80%) and temp (20%)\n",
    "train_temp_images, test_images_labels = train_test_split(augmented_images, test_size=0.2, random_state=42)\n",
    "\n",
    "# Further splitting 'temp' into val (50%) and test (50%)\n",
    "val_images, test_images_labels = train_test_split(test_images_labels, test_size=0.5, random_state=42)\n",
    "\n",
    "# Separating images and labels for each set\n",
    "train_images, train_labels = zip(*train_temp_images)\n",
    "val_images, val_labels = zip(*val_images)\n",
    "test_images, test_labels = zip(*test_images_labels)\n",
    "\n",
    "# Checking the sizes of the sets\n",
    "print(f\"Train set: {len(train_images)} images\")\n",
    "print(f\"Validation set: {len(val_images)} images\")\n",
    "print(f\"Test set: {len(test_images)} images\")"
   ]
  },
  {
   "cell_type": "code",
   "execution_count": 3,
   "id": "38dcef80",
   "metadata": {},
   "outputs": [],
   "source": [
    "# Convert the data splits and labels to NumPy arrays\n",
    "train_images = np.array(train_images)\n",
    "val_images = np.array(val_images)\n",
    "test_images = np.array(test_images)\n",
    "\n",
    "train_labels = np.array(train_labels)\n",
    "val_labels = np.array(val_labels)\n",
    "test_labels = np.array(test_labels)\n"
   ]
  },
  {
   "cell_type": "code",
   "execution_count": 9,
   "id": "dceedc7a",
   "metadata": {},
   "outputs": [
    {
     "name": "stdout",
     "output_type": "stream",
     "text": [
      "Epoch 1/10\n",
      "20/20 [==============================] - 250s 12s/step - loss: 1.3756 - accuracy: 0.5582 - val_loss: 1.7071 - val_accuracy: 0.3544\n",
      "Epoch 2/10\n",
      "20/20 [==============================] - 218s 11s/step - loss: 0.2130 - accuracy: 0.9308 - val_loss: 1.4129 - val_accuracy: 0.3671\n",
      "Epoch 3/10\n",
      "20/20 [==============================] - 208s 10s/step - loss: 0.0659 - accuracy: 0.9780 - val_loss: 1.1930 - val_accuracy: 0.4684\n",
      "Epoch 4/10\n",
      "20/20 [==============================] - 208s 10s/step - loss: 0.0207 - accuracy: 0.9984 - val_loss: 1.1255 - val_accuracy: 0.5443\n",
      "Epoch 5/10\n",
      "20/20 [==============================] - 201s 10s/step - loss: 0.0098 - accuracy: 0.9984 - val_loss: 1.0461 - val_accuracy: 0.5570\n",
      "Epoch 6/10\n",
      "20/20 [==============================] - 207s 10s/step - loss: 0.0068 - accuracy: 1.0000 - val_loss: 0.9192 - val_accuracy: 0.5949\n",
      "Epoch 7/10\n",
      "20/20 [==============================] - 216s 11s/step - loss: 0.0088 - accuracy: 0.9984 - val_loss: 0.8924 - val_accuracy: 0.6456\n",
      "Epoch 8/10\n",
      "20/20 [==============================] - 223s 11s/step - loss: 0.0035 - accuracy: 1.0000 - val_loss: 0.8530 - val_accuracy: 0.7089\n",
      "Epoch 9/10\n",
      "20/20 [==============================] - 233s 12s/step - loss: 0.0059 - accuracy: 1.0000 - val_loss: 0.7854 - val_accuracy: 0.7468\n",
      "Epoch 10/10\n",
      "20/20 [==============================] - 206s 10s/step - loss: 0.0029 - accuracy: 1.0000 - val_loss: 0.7181 - val_accuracy: 0.7595\n"
     ]
    }
   ],
   "source": [
    "# Load the pre-trained VGG16 model without the top classification layers\n",
    "vgg_base = VGG16(weights='imagenet', include_top=False, input_shape=(224, 224, 3))\n",
    "\n",
    "# Freeze the layers of the pre-trained model\n",
    "for layer in vgg_base.layers:\n",
    "    layer.trainable = False\n",
    "\n",
    "# Create a new model on top of the VGG16 base\n",
    "model = Sequential()\n",
    "model.add(vgg_base)\n",
    "model.add(Flatten())\n",
    "model.add(BatchNormalization())\n",
    "model.add(Dense(5, activation='softmax'))  # Adapted for 16 plant classes\n",
    "\n",
    "# Compile the model\n",
    "model.compile(optimizer='adam', loss='sparse_categorical_crossentropy', metrics=['accuracy'])\n",
    "\n",
    "# Train the model using your data\n",
    "history = model.fit(train_images, train_labels, epochs=10, batch_size=32, validation_data=(val_images, val_labels))\n"
   ]
  },
  {
   "cell_type": "code",
   "execution_count": 10,
   "id": "11c0fc89",
   "metadata": {},
   "outputs": [
    {
     "name": "stdout",
     "output_type": "stream",
     "text": [
      "3/3 [==============================] - 22s 7s/step\n",
      "Accuracy: 0.6875\n",
      "Precision: 0.7491249491249491\n",
      "Recall: 0.691240374692387\n",
      "F1 Score: 0.6939075374666881\n",
      "Confusion Matrix:\n",
      "[[11  3  1  2  0]\n",
      " [ 1 14  1  0  0]\n",
      " [ 0  2 10  1  0]\n",
      " [ 0  6  1 12  0]\n",
      " [ 1  2  1  3  8]]\n"
     ]
    }
   ],
   "source": [
    "# Predict classes for test set\n",
    "predictions = model.predict(test_images)\n",
    "predicted_classes = np.argmax(predictions, axis=1)\n",
    "\n",
    "# Calculate metrics\n",
    "accuracy = accuracy_score(test_labels, predicted_classes)\n",
    "precision = precision_score(test_labels, predicted_classes, average='macro')\n",
    "recall = recall_score(test_labels, predicted_classes, average='macro')\n",
    "f1 = f1_score(test_labels, predicted_classes, average='macro')\n",
    "conf_matrix = confusion_matrix(test_labels, predicted_classes)\n",
    "\n",
    "print(\"Accuracy:\", accuracy)\n",
    "print(\"Precision:\", precision)\n",
    "print(\"Recall:\", recall)\n",
    "print(\"F1 Score:\", f1)\n",
    "print(\"Confusion Matrix:\")\n",
    "print(conf_matrix)\n"
   ]
  },
  {
   "cell_type": "code",
   "execution_count": 16,
   "id": "04146669",
   "metadata": {},
   "outputs": [
    {
     "data": {
      "image/png": "[encoded data removed]",
      "text/plain": [
       "<Figure size 720x432 with 1 Axes>"
      ]
     },
     "metadata": {
      "needs_background": "light"
     },
     "output_type": "display_data"
    }
   ],
   "source": [
    "# Binarize the labels\n",
    "binarized_labels = label_binarize(test_labels, classes=[0, 1, 2, 3, 4])\n",
    "\n",
    "# Compute ROC curve and ROC area for each class\n",
    "fpr = dict()\n",
    "tpr = dict()\n",
    "roc_auc = dict()\n",
    "\n",
    "# Assuming predictions contain probabilities for each class (shape: [num_samples, num_classes])\n",
    "for i in range(5):\n",
    "    fpr[i], tpr[i], _ = roc_curve(binarized_labels[:, i], predictions[:, i])\n",
    "    roc_auc[i] = auc(fpr[i], tpr[i])\n",
    "\n",
    "# Plot ROC curves\n",
    "plt.figure(figsize=(10, 6))\n",
    "for i in range(5):\n",
    "    plt.plot(fpr[i], tpr[i], label='ROC curve of class {0} (area = {1:0.2f})'.format(i, roc_auc[i]))\n",
    "\n",
    "plt.plot([0, 1], [0, 1], 'k--')\n",
    "plt.xlim([0.0, 1.0])\n",
    "plt.ylim([0.0, 1.05])\n",
    "plt.xlabel('False Positive Rate')\n",
    "plt.ylabel('True Positive Rate')\n",
    "plt.title('Receiver Operating Characteristic (ROC)')\n",
    "plt.legend(loc=\"lower right\")\n",
    "plt.show()\n"
   ]
  },
  {
   "cell_type": "code",
   "execution_count": 4,
   "id": "34729234",
   "metadata": {},
   "outputs": [
    {
     "name": "stdout",
     "output_type": "stream",
     "text": [
      "Epoch 1/10\n",
      "20/20 [==============================] - 63s 3s/step - loss: 1.6315 - accuracy: 0.4041 - val_loss: 1.2537 - val_accuracy: 0.4684\n",
      "Epoch 2/10\n",
      "20/20 [==============================] - 48s 2s/step - loss: 0.8344 - accuracy: 0.7013 - val_loss: 0.8204 - val_accuracy: 0.6962\n",
      "Epoch 3/10\n",
      "20/20 [==============================] - 45s 2s/step - loss: 0.5188 - accuracy: 0.8349 - val_loss: 0.7376 - val_accuracy: 0.6835\n",
      "Epoch 4/10\n",
      "20/20 [==============================] - 49s 2s/step - loss: 0.3542 - accuracy: 0.8978 - val_loss: 0.6466 - val_accuracy: 0.7595\n",
      "Epoch 5/10\n",
      "20/20 [==============================] - 51s 3s/step - loss: 0.2519 - accuracy: 0.9465 - val_loss: 0.5950 - val_accuracy: 0.7848\n",
      "Epoch 6/10\n",
      "20/20 [==============================] - 51s 3s/step - loss: 0.1660 - accuracy: 0.9764 - val_loss: 0.5504 - val_accuracy: 0.7722\n",
      "Epoch 7/10\n",
      "20/20 [==============================] - 50s 3s/step - loss: 0.1217 - accuracy: 0.9921 - val_loss: 0.5280 - val_accuracy: 0.7848\n",
      "Epoch 8/10\n",
      "20/20 [==============================] - 56s 3s/step - loss: 0.0842 - accuracy: 0.9984 - val_loss: 0.4920 - val_accuracy: 0.7975\n",
      "Epoch 9/10\n",
      "20/20 [==============================] - 53s 3s/step - loss: 0.0635 - accuracy: 0.9984 - val_loss: 0.4889 - val_accuracy: 0.8354\n",
      "Epoch 10/10\n",
      "20/20 [==============================] - 53s 3s/step - loss: 0.0517 - accuracy: 1.0000 - val_loss: 0.4612 - val_accuracy: 0.8481\n"
     ]
    }
   ],
   "source": [
    "\n",
    "# Load the InceptionV3 model pretrained on ImageNet data\n",
    "inception_base = InceptionV3(weights='imagenet', include_top=False, input_shape=(224, 224, 3))\n",
    "\n",
    "# Freeze the layers of the pre-trained model\n",
    "for layer in inception_base.layers:\n",
    "    layer.trainable = False\n",
    "\n",
    "# Create a new model on top of the InceptionV3 base\n",
    "model2 = Sequential()\n",
    "model2.add(inception_base)\n",
    "model2.add(GlobalAveragePooling2D())\n",
    "model2.add(Dense(256, activation='relu'))\n",
    "model2.add(Dense(5, activation='softmax'))  # Adapted for 5 plant classes\n",
    "\n",
    "# Compile the model\n",
    "model2.compile(optimizer='adam', loss='sparse_categorical_crossentropy', metrics=['accuracy'])\n",
    "\n",
    "# Train the model using your data\n",
    "history = model2.fit(train_images, train_labels, epochs=10, batch_size=32, validation_data=(val_images, val_labels))\n"
   ]
  },
  {
   "cell_type": "code",
   "execution_count": 20,
   "id": "392f4dd0",
   "metadata": {},
   "outputs": [
    {
     "name": "stdout",
     "output_type": "stream",
     "text": [
      "3/3 [==============================] - 7s 2s/step\n",
      "Accuracy: 0.7875\n",
      "Precision: 0.7952168746286394\n",
      "Recall: 0.7964703897753433\n",
      "F1 Score: 0.7891673167940916\n",
      "Confusion Matrix:\n",
      "[[14  1  1  1  0]\n",
      " [ 0 15  1  0  0]\n",
      " [ 0  1 12  0  0]\n",
      " [ 3  1  2 12  1]\n",
      " [ 1  0  0  4 10]]\n"
     ]
    }
   ],
   "source": [
    "# Predict classes for test set\n",
    "predictions = model2.predict(test_images)\n",
    "predicted_classes = np.argmax(predictions, axis=1)\n",
    "\n",
    "# Calculate metrics\n",
    "accuracy = accuracy_score(test_labels, predicted_classes)\n",
    "precision = precision_score(test_labels, predicted_classes, average='macro')\n",
    "recall = recall_score(test_labels, predicted_classes, average='macro')\n",
    "f1 = f1_score(test_labels, predicted_classes, average='macro')\n",
    "conf_matrix = confusion_matrix(test_labels, predicted_classes)\n",
    "\n",
    "print(\"Accuracy:\", accuracy)\n",
    "print(\"Precision:\", precision)\n",
    "print(\"Recall:\", recall)\n",
    "print(\"F1 Score:\", f1)\n",
    "print(\"Confusion Matrix:\")\n",
    "print(conf_matrix)"
   ]
  },
  {
   "cell_type": "code",
   "execution_count": 8,
   "id": "863c43dd",
   "metadata": {},
   "outputs": [
    {
     "name": "stdout",
     "output_type": "stream",
     "text": [
      "3/3 [==============================] - 5s 2s/step\n"
     ]
    },
    {
     "data": {
      "image/png": "[encoded data removed]",
      "text/plain": [
       "<Figure size 576x432 with 1 Axes>"
      ]
     },
     "metadata": {
      "needs_background": "light"
     },
     "output_type": "display_data"
    }
   ],
   "source": [
    "# Make predictions on the validation set\n",
    "val_predictions = model2.predict(val_images)\n",
    "\n",
    "# Get the number of classes\n",
    "num_classes = len(np.unique(train_labels))\n",
    "\n",
    "# Compute ROC curve and ROC area for each class\n",
    "fpr = dict()\n",
    "tpr = dict()\n",
    "roc_auc = dict()\n",
    "\n",
    "for i in range(num_classes):\n",
    "    fpr[i], tpr[i], _ = roc_curve((val_labels == i).astype(int), val_predictions[:, i])\n",
    "    roc_auc[i] = auc(fpr[i], tpr[i])\n",
    "\n",
    "# Plot ROC curve for each class\n",
    "plt.figure(figsize=(8, 6))\n",
    "colors = ['blue', 'orange', 'green', 'red', 'purple']  # Change or add colors based on the number of classes\n",
    "\n",
    "for i in range(num_classes):\n",
    "    plt.plot(fpr[i], tpr[i], color=colors[i], label=f'ROC curve (class {i}) (area = {roc_auc[i]:.2f})')\n",
    "\n",
    "plt.plot([0, 1], [0, 1], 'k--')  # Diagonal reference line\n",
    "plt.xlim([0.0, 1.0])\n",
    "plt.ylim([0.0, 1.05])\n",
    "plt.xlabel('False Positive Rate')\n",
    "plt.ylabel('True Positive Rate')\n",
    "plt.title('Receiver Operating Characteristic (ROC) Curve')\n",
    "plt.legend(loc='best')\n",
    "plt.show()\n"
   ]
  },
  {
   "cell_type": "code",
   "execution_count": null,
   "id": "f852509d",
   "metadata": {},
   "outputs": [],
   "source": [
    "model2.save('inceptionv3_model.h5')\n",
    "model.save('vgg_model.h5')"
   ]
  }
 ],
 "metadata": {
  "kernelspec": {
   "display_name": "Python 3 (ipykernel)",
   "language": "python",
   "name": "python3"
  },
  "language_info": {
   "codemirror_mode": {
    "name": "ipython",
    "version": 3
   },
   "file_extension": ".py",
   "mimetype": "text/x-python",
   "name": "python",
   "nbconvert_exporter": "python",
   "pygments_lexer": "ipython3",
   "version": "3.9.7"
  }
 },
 "nbformat": 4,
 "nbformat_minor": 5
}
